{
  "nbformat": 4,
  "nbformat_minor": 0,
  "metadata": {
    "colab": {
      "provenance": []
    },
    "kernelspec": {
      "name": "python3",
      "display_name": "Python 3"
    },
    "language_info": {
      "name": "python"
    }
  },
  "cells": [
    {
      "cell_type": "code",
      "execution_count": null,
      "metadata": {
        "id": "bGvTmeRcIsFj"
      },
      "outputs": [],
      "source": [
        "import numpy as np\n",
        "import pandas as pd\n",
        "import re \n",
        "\n",
        "from sklearn.model_selection import train_test_split\n",
        "from sklearn.metrics import confusion_matrix,accuracy_score\n",
        "from sklearn.feature_extraction.text import TfidfVectorizer\n",
        "\n",
        "import torch\n",
        "import torch.nn as nn\n",
        "import torch.nn.functional as F\n",
        "import torch.optim as optim\n",
        "\n",
        "from torch.utils.data.sampler import SubsetRandomSampler\n",
        "from torch.utils.data import Dataset"
      ]
    },
    {
      "cell_type": "code",
      "source": [
        "data = pd.concat([pd.read_csv('/content/train.csv'),\n",
        "                  pd.read_csv(\"/content/test.csv\")],axis=0)"
      ],
      "metadata": {
        "id": "j9w1BamqIylc"
      },
      "execution_count": null,
      "outputs": []
    },
    {
      "cell_type": "code",
      "source": [
        "data.info()"
      ],
      "metadata": {
        "colab": {
          "base_uri": "https://localhost:8080/"
        },
        "id": "Zzjnxb0mJkfs",
        "outputId": "82bf6fdf-12c0-425d-e2cc-2a639fd07919"
      },
      "execution_count": null,
      "outputs": [
        {
          "output_type": "stream",
          "name": "stdout",
          "text": [
            "<class 'pandas.core.frame.DataFrame'>\n",
            "Int64Index: 89536 entries, 0 to 8127\n",
            "Data columns (total 2 columns):\n",
            " #   Column  Non-Null Count  Dtype \n",
            "---  ------  --------------  ----- \n",
            " 0   tweets  89534 non-null  object\n",
            " 1   class   89527 non-null  object\n",
            "dtypes: object(2)\n",
            "memory usage: 2.0+ MB\n"
          ]
        }
      ]
    },
    {
      "cell_type": "code",
      "source": [
        "data.head()"
      ],
      "metadata": {
        "colab": {
          "base_uri": "https://localhost:8080/",
          "height": 206
        },
        "id": "EUAwUY4PJo12",
        "outputId": "9c0ee8ac-da3e-450a-c0fb-4c2c5c9ba2e5"
      },
      "execution_count": null,
      "outputs": [
        {
          "output_type": "execute_result",
          "data": {
            "text/plain": [
              "                                              tweets       class\n",
              "0  Be aware  dirty step to get money  #staylight ...  figurative\n",
              "1  #sarcasm for #people who don't understand #diy...  figurative\n",
              "2  @IminworkJeremy @medsingle #DailyMail readers ...  figurative\n",
              "3  @wilw Why do I get the feeling you like games?...  figurative\n",
              "4  -@TeacherArthurG @rweingarten You probably jus...  figurative"
            ],
            "text/html": [
              "\n",
              "  <div id=\"df-9abe9f43-1eb2-413a-a7c2-3f89111499ff\">\n",
              "    <div class=\"colab-df-container\">\n",
              "      <div>\n",
              "<style scoped>\n",
              "    .dataframe tbody tr th:only-of-type {\n",
              "        vertical-align: middle;\n",
              "    }\n",
              "\n",
              "    .dataframe tbody tr th {\n",
              "        vertical-align: top;\n",
              "    }\n",
              "\n",
              "    .dataframe thead th {\n",
              "        text-align: right;\n",
              "    }\n",
              "</style>\n",
              "<table border=\"1\" class=\"dataframe\">\n",
              "  <thead>\n",
              "    <tr style=\"text-align: right;\">\n",
              "      <th></th>\n",
              "      <th>tweets</th>\n",
              "      <th>class</th>\n",
              "    </tr>\n",
              "  </thead>\n",
              "  <tbody>\n",
              "    <tr>\n",
              "      <th>0</th>\n",
              "      <td>Be aware  dirty step to get money  #staylight ...</td>\n",
              "      <td>figurative</td>\n",
              "    </tr>\n",
              "    <tr>\n",
              "      <th>1</th>\n",
              "      <td>#sarcasm for #people who don't understand #diy...</td>\n",
              "      <td>figurative</td>\n",
              "    </tr>\n",
              "    <tr>\n",
              "      <th>2</th>\n",
              "      <td>@IminworkJeremy @medsingle #DailyMail readers ...</td>\n",
              "      <td>figurative</td>\n",
              "    </tr>\n",
              "    <tr>\n",
              "      <th>3</th>\n",
              "      <td>@wilw Why do I get the feeling you like games?...</td>\n",
              "      <td>figurative</td>\n",
              "    </tr>\n",
              "    <tr>\n",
              "      <th>4</th>\n",
              "      <td>-@TeacherArthurG @rweingarten You probably jus...</td>\n",
              "      <td>figurative</td>\n",
              "    </tr>\n",
              "  </tbody>\n",
              "</table>\n",
              "</div>\n",
              "      <button class=\"colab-df-convert\" onclick=\"convertToInteractive('df-9abe9f43-1eb2-413a-a7c2-3f89111499ff')\"\n",
              "              title=\"Convert this dataframe to an interactive table.\"\n",
              "              style=\"display:none;\">\n",
              "        \n",
              "  <svg xmlns=\"http://www.w3.org/2000/svg\" height=\"24px\"viewBox=\"0 0 24 24\"\n",
              "       width=\"24px\">\n",
              "    <path d=\"M0 0h24v24H0V0z\" fill=\"none\"/>\n",
              "    <path d=\"M18.56 5.44l.94 2.06.94-2.06 2.06-.94-2.06-.94-.94-2.06-.94 2.06-2.06.94zm-11 1L8.5 8.5l.94-2.06 2.06-.94-2.06-.94L8.5 2.5l-.94 2.06-2.06.94zm10 10l.94 2.06.94-2.06 2.06-.94-2.06-.94-.94-2.06-.94 2.06-2.06.94z\"/><path d=\"M17.41 7.96l-1.37-1.37c-.4-.4-.92-.59-1.43-.59-.52 0-1.04.2-1.43.59L10.3 9.45l-7.72 7.72c-.78.78-.78 2.05 0 2.83L4 21.41c.39.39.9.59 1.41.59.51 0 1.02-.2 1.41-.59l7.78-7.78 2.81-2.81c.8-.78.8-2.07 0-2.86zM5.41 20L4 18.59l7.72-7.72 1.47 1.35L5.41 20z\"/>\n",
              "  </svg>\n",
              "      </button>\n",
              "      \n",
              "  <style>\n",
              "    .colab-df-container {\n",
              "      display:flex;\n",
              "      flex-wrap:wrap;\n",
              "      gap: 12px;\n",
              "    }\n",
              "\n",
              "    .colab-df-convert {\n",
              "      background-color: #E8F0FE;\n",
              "      border: none;\n",
              "      border-radius: 50%;\n",
              "      cursor: pointer;\n",
              "      display: none;\n",
              "      fill: #1967D2;\n",
              "      height: 32px;\n",
              "      padding: 0 0 0 0;\n",
              "      width: 32px;\n",
              "    }\n",
              "\n",
              "    .colab-df-convert:hover {\n",
              "      background-color: #E2EBFA;\n",
              "      box-shadow: 0px 1px 2px rgba(60, 64, 67, 0.3), 0px 1px 3px 1px rgba(60, 64, 67, 0.15);\n",
              "      fill: #174EA6;\n",
              "    }\n",
              "\n",
              "    [theme=dark] .colab-df-convert {\n",
              "      background-color: #3B4455;\n",
              "      fill: #D2E3FC;\n",
              "    }\n",
              "\n",
              "    [theme=dark] .colab-df-convert:hover {\n",
              "      background-color: #434B5C;\n",
              "      box-shadow: 0px 1px 3px 1px rgba(0, 0, 0, 0.15);\n",
              "      filter: drop-shadow(0px 1px 2px rgba(0, 0, 0, 0.3));\n",
              "      fill: #FFFFFF;\n",
              "    }\n",
              "  </style>\n",
              "\n",
              "      <script>\n",
              "        const buttonEl =\n",
              "          document.querySelector('#df-9abe9f43-1eb2-413a-a7c2-3f89111499ff button.colab-df-convert');\n",
              "        buttonEl.style.display =\n",
              "          google.colab.kernel.accessAllowed ? 'block' : 'none';\n",
              "\n",
              "        async function convertToInteractive(key) {\n",
              "          const element = document.querySelector('#df-9abe9f43-1eb2-413a-a7c2-3f89111499ff');\n",
              "          const dataTable =\n",
              "            await google.colab.kernel.invokeFunction('convertToInteractive',\n",
              "                                                     [key], {});\n",
              "          if (!dataTable) return;\n",
              "\n",
              "          const docLinkHtml = 'Like what you see? Visit the ' +\n",
              "            '<a target=\"_blank\" href=https://colab.research.google.com/notebooks/data_table.ipynb>data table notebook</a>'\n",
              "            + ' to learn more about interactive tables.';\n",
              "          element.innerHTML = '';\n",
              "          dataTable['output_type'] = 'display_data';\n",
              "          await google.colab.output.renderOutput(dataTable, element);\n",
              "          const docLink = document.createElement('div');\n",
              "          docLink.innerHTML = docLinkHtml;\n",
              "          element.appendChild(docLink);\n",
              "        }\n",
              "      </script>\n",
              "    </div>\n",
              "  </div>\n",
              "  "
            ]
          },
          "metadata": {},
          "execution_count": 5
        }
      ]
    },
    {
      "cell_type": "code",
      "source": [
        "np.unique(list(data[\"class\"]))"
      ],
      "metadata": {
        "colab": {
          "base_uri": "https://localhost:8080/"
        },
        "id": "JatMaA4WJr09",
        "outputId": "5b0b5ae9-0de0-425d-86eb-5bb5ba9362eb"
      },
      "execution_count": null,
      "outputs": [
        {
          "output_type": "execute_result",
          "data": {
            "text/plain": [
              "array(['figurative', 'irony', 'nan', 'regular', 'sarcasm'], dtype='<U32')"
            ]
          },
          "metadata": {},
          "execution_count": 6
        }
      ]
    },
    {
      "cell_type": "code",
      "source": [
        "data.dropna(inplace=True)\n",
        "data.info()"
      ],
      "metadata": {
        "colab": {
          "base_uri": "https://localhost:8080/"
        },
        "id": "bnGJvhyYJv9z",
        "outputId": "79be2c82-20cd-4de1-a07b-aa4d48bb7ba4"
      },
      "execution_count": null,
      "outputs": [
        {
          "output_type": "stream",
          "name": "stdout",
          "text": [
            "<class 'pandas.core.frame.DataFrame'>\n",
            "Int64Index: 89527 entries, 0 to 8127\n",
            "Data columns (total 2 columns):\n",
            " #   Column  Non-Null Count  Dtype \n",
            "---  ------  --------------  ----- \n",
            " 0   tweets  89527 non-null  object\n",
            " 1   class   89527 non-null  object\n",
            "dtypes: object(2)\n",
            "memory usage: 2.0+ MB\n"
          ]
        }
      ]
    },
    {
      "cell_type": "code",
      "source": [
        "class Vectorizer():\n",
        "    def __init__(self,clean_pattern=None,max_features=None,stop_words=None):\n",
        "        self.clean_pattern = clean_pattern\n",
        "        self.max_features = max_features\n",
        "        self.stopwords = stop_words\n",
        "        self.tfidf = TfidfVectorizer(stop_words=self.stopwords,max_features=self.max_features)\n",
        "        self.builded = False\n",
        "        \n",
        "    \n",
        "    def _clean_texts(self,texts):\n",
        "        \n",
        "        cleaned = []\n",
        "        for text in texts:\n",
        "            if self.clean_pattern is not None:\n",
        "                text = re.sub(self.clean_pattern,\" \",text)\n",
        "            \n",
        "            text = text.lower().strip()\n",
        "            cleaned.append(text)\n",
        "        \n",
        "        return cleaned\n",
        "\n",
        "    def _set_tfidf(self,cleaned_texts):\n",
        "        self.tfidf.fit(cleaned_texts)\n",
        "    \n",
        "    def build_vectorizer(self,texts):\n",
        "        cleaned_texts = self._clean_texts(texts)\n",
        "        self._set_tfidf(cleaned_texts)\n",
        "        self.builded = True\n",
        "        \n",
        "    def vectorizeTexts(self,texts):\n",
        "        if self.builded:\n",
        "            cleaned_texts = self._clean_texts(texts)\n",
        "            return self.tfidf.transform(cleaned_texts)\n",
        "        \n",
        "        else:\n",
        "            raise Exception(\"Vectorizer is not builded.\")\n",
        "            \n",
        "            "
      ],
      "metadata": {
        "id": "g1NIJfwTJ2D5"
      },
      "execution_count": null,
      "outputs": []
    },
    {
      "cell_type": "code",
      "source": [
        "x = list(data[\"tweets\"])\n",
        "y = list(data[\"class\"])"
      ],
      "metadata": {
        "id": "URLrtX_YJ8Dw"
      },
      "execution_count": null,
      "outputs": []
    },
    {
      "cell_type": "code",
      "source": [
        "vectorizer = Vectorizer(\"[^a-zA-Z0-9]\",max_features=7000,stop_words=\"english\");"
      ],
      "metadata": {
        "id": "aJSo1A_QKCRJ"
      },
      "execution_count": null,
      "outputs": []
    },
    {
      "cell_type": "code",
      "source": [
        "vectorizer.build_vectorizer(x)"
      ],
      "metadata": {
        "id": "_gY608KEKDju"
      },
      "execution_count": null,
      "outputs": []
    },
    {
      "cell_type": "code",
      "source": [
        "vectorized_x = vectorizer.vectorizeTexts(x).toarray()"
      ],
      "metadata": {
        "id": "CRMv6IYiKIRm"
      },
      "execution_count": null,
      "outputs": []
    },
    {
      "cell_type": "code",
      "source": [
        "vectorized_x.shape"
      ],
      "metadata": {
        "colab": {
          "base_uri": "https://localhost:8080/"
        },
        "id": "b9pLvANlKK_A",
        "outputId": "e0ffbc04-c525-4fb3-d919-a637dc216e4f"
      },
      "execution_count": null,
      "outputs": [
        {
          "output_type": "execute_result",
          "data": {
            "text/plain": [
              "(89527, 7000)"
            ]
          },
          "metadata": {},
          "execution_count": 13
        }
      ]
    },
    {
      "cell_type": "code",
      "source": [
        "label_map = {\n",
        "    \"figurative\":0,\n",
        "    \"sarcasm\":1,\n",
        "    \"irony\":2,\n",
        "    \"regular\":3\n",
        "}"
      ],
      "metadata": {
        "id": "-yIZ1FENKN9p"
      },
      "execution_count": null,
      "outputs": []
    },
    {
      "cell_type": "code",
      "source": [
        "y_encoded = []\n",
        "for y_sample in y:\n",
        "    y_encoded.append(label_map[y_sample])\n",
        "    \n",
        "y_encoded = np.asarray(y_encoded)"
      ],
      "metadata": {
        "id": "od1HSexkKQ9T"
      },
      "execution_count": null,
      "outputs": []
    },
    {
      "cell_type": "code",
      "source": [
        "y_encoded.shape"
      ],
      "metadata": {
        "colab": {
          "base_uri": "https://localhost:8080/"
        },
        "id": "KyokMKD_KUDP",
        "outputId": "d43b39cb-119b-428e-b908-d8983aae3fb3"
      },
      "execution_count": null,
      "outputs": [
        {
          "output_type": "execute_result",
          "data": {
            "text/plain": [
              "(89527,)"
            ]
          },
          "metadata": {},
          "execution_count": 16
        }
      ]
    },
    {
      "cell_type": "code",
      "source": [
        "class TweetDataset(Dataset):\n",
        "    \n",
        "    def __init__(self,x_vectorized,y_encoded):\n",
        "        self.x_vectorized = x_vectorized\n",
        "        self.y_encoded = y_encoded\n",
        "        \n",
        "    \n",
        "    def __len__(self):\n",
        "        return len(self.x_vectorized)\n",
        "    \n",
        "    \n",
        "    def __getitem__(self,index):\n",
        "        return self.x_vectorized[index],self.y_encoded[index]"
      ],
      "metadata": {
        "id": "uOvcoB3dKWv5"
      },
      "execution_count": null,
      "outputs": []
    },
    {
      "cell_type": "code",
      "source": [
        "dataset = TweetDataset(vectorized_x,y_encoded)\n",
        "print(\"Length of our dataset is\",len(dataset))\n",
        "\n",
        "print(dataset[2])"
      ],
      "metadata": {
        "colab": {
          "base_uri": "https://localhost:8080/"
        },
        "id": "OqKTHpkWKaHg",
        "outputId": "0bb7f280-0872-485c-decd-05d1ce4253e7"
      },
      "execution_count": null,
      "outputs": [
        {
          "output_type": "stream",
          "name": "stdout",
          "text": [
            "Length of our dataset is 89527\n",
            "(array([0., 0., 0., ..., 0., 0., 0.]), 0)\n"
          ]
        }
      ]
    },
    {
      "cell_type": "code",
      "source": [
        "train_indices,test_indices = train_test_split(list(range(0,len(dataset))),test_size=0.25,random_state=42)"
      ],
      "metadata": {
        "id": "P3_OXt70Kehz"
      },
      "execution_count": null,
      "outputs": []
    },
    {
      "cell_type": "code",
      "source": [
        "print(len(train_indices))\n",
        "print(len(test_indices))"
      ],
      "metadata": {
        "colab": {
          "base_uri": "https://localhost:8080/"
        },
        "id": "wEb6GcApKhg8",
        "outputId": "f8de52e6-dedc-401f-f8d9-198a050208ef"
      },
      "execution_count": null,
      "outputs": [
        {
          "output_type": "stream",
          "name": "stdout",
          "text": [
            "67145\n",
            "22382\n"
          ]
        }
      ]
    },
    {
      "cell_type": "code",
      "source": [
        "train_sampler = SubsetRandomSampler(train_indices)\n",
        "test_sampler = SubsetRandomSampler(test_indices)"
      ],
      "metadata": {
        "id": "v9PNDtAXKkkA"
      },
      "execution_count": null,
      "outputs": []
    },
    {
      "cell_type": "code",
      "source": [
        "BATCH_SIZE = 128\n",
        "train_loader = torch.utils.data.DataLoader(dataset, batch_size=BATCH_SIZE, \n",
        "                                           sampler=train_sampler)\n",
        "validation_loader = torch.utils.data.DataLoader(dataset, batch_size=BATCH_SIZE,\n",
        "                                                sampler=test_sampler)"
      ],
      "metadata": {
        "id": "8HSGk1m2Kn5i"
      },
      "execution_count": null,
      "outputs": []
    },
    {
      "cell_type": "code",
      "source": [
        "class DenseNetwork(nn.Module):\n",
        "    \n",
        "    def __init__(self):\n",
        "        super(DenseNetwork,self).__init__()\n",
        "        self.fc1 = nn.Linear(7000,1024)\n",
        "        self.drop1 = nn.Dropout(0.4)\n",
        "        self.fc2 = nn.Linear(1024,256)\n",
        "        self.drop2 = nn.Dropout(0.4)\n",
        "        self.prediction = nn.Linear(256,4)\n",
        "        \n",
        "    def forward(self,x):\n",
        "        \n",
        "        x = F.relu(self.fc1(x.to(torch.float)))\n",
        "        x = self.drop1(x)\n",
        "        x = F.relu(self.fc2(x))\n",
        "        x = self.drop2(x)\n",
        "        x = F.log_softmax(self.prediction(x),dim=1)\n",
        "        \n",
        "        return x"
      ],
      "metadata": {
        "id": "hSVCyQGPKpoO"
      },
      "execution_count": null,
      "outputs": []
    },
    {
      "cell_type": "code",
      "source": [
        "device = torch.device(\"cuda\")\n",
        "device"
      ],
      "metadata": {
        "colab": {
          "base_uri": "https://localhost:8080/"
        },
        "id": "64yQggBqKxDN",
        "outputId": "edc1580a-9f1d-40d5-97b3-0be5a621d370"
      },
      "execution_count": null,
      "outputs": [
        {
          "output_type": "execute_result",
          "data": {
            "text/plain": [
              "device(type='cuda')"
            ]
          },
          "metadata": {},
          "execution_count": 24
        }
      ]
    },
    {
      "cell_type": "code",
      "source": [
        "pip install cuda-python"
      ],
      "metadata": {
        "colab": {
          "base_uri": "https://localhost:8080/"
        },
        "id": "r5SCVjyEMsti",
        "outputId": "ed7f4e2a-9757-40b3-a66f-582f7209641d"
      },
      "execution_count": null,
      "outputs": [
        {
          "output_type": "stream",
          "name": "stdout",
          "text": [
            "Looking in indexes: https://pypi.org/simple, https://us-python.pkg.dev/colab-wheels/public/simple/\n",
            "Requirement already satisfied: cuda-python in /usr/local/lib/python3.7/dist-packages (11.8.0)\n",
            "Requirement already satisfied: cython in /usr/local/lib/python3.7/dist-packages (from cuda-python) (0.29.32)\n"
          ]
        }
      ]
    },
    {
      "cell_type": "code",
      "source": [
        "model = DenseNetwork()"
      ],
      "metadata": {
        "id": "px0iNDgeK0GR"
      },
      "execution_count": null,
      "outputs": []
    },
    {
      "cell_type": "code",
      "source": [
        "criterion = nn.CrossEntropyLoss()\n",
        "optimizer = optim.RMSprop(model.parameters(),lr=1e-3)"
      ],
      "metadata": {
        "id": "3-ei7MuEM9By"
      },
      "execution_count": null,
      "outputs": []
    },
    {
      "cell_type": "code",
      "source": [
        "EPOCHS = 6\n",
        "TRAIN_LOSSES = []\n",
        "TRAIN_ACCURACIES = []\n",
        "\n",
        "for epoch in range(1,EPOCHS+1):\n",
        "    epoch_loss = 0.0\n",
        "    epoch_true = 0\n",
        "    epoch_total = 0\n",
        "    for data_,target_ in train_loader:\n",
        "        # Cleaning optimizer cache.\n",
        "        optimizer.zero_grad()\n",
        "        \n",
        "        # Forward propagation\n",
        "        outputs = model(data_)\n",
        "        \n",
        "        # Computing loss & backward propagation\n",
        "        loss = criterion(outputs,target_)\n",
        "        loss.backward()\n",
        "        optimizer.step()\n",
        "        \n",
        "        epoch_loss += loss.item()\n",
        "        \n",
        "        _,pred = torch.max(outputs,dim=1)\n",
        "        epoch_true = epoch_true + torch.sum(pred == target_).item()\n",
        "        \n",
        "        epoch_total += target_.size(0)\n",
        "        \n",
        "    TRAIN_LOSSES.append(epoch_loss)\n",
        "    TRAIN_ACCURACIES.append(100 * epoch_true / epoch_total)\n",
        "    \n",
        "    print(f\"Epoch {epoch}/{EPOCHS} finished: train_loss = {epoch_loss}, train_accuracy = {TRAIN_ACCURACIES[epoch-1]}\")\n",
        "    "
      ],
      "metadata": {
        "colab": {
          "base_uri": "https://localhost:8080/"
        },
        "id": "nRw0WOyUNkRf",
        "outputId": "1a9b1541-99e7-4cea-d4c1-3e9c644bb86c"
      },
      "execution_count": null,
      "outputs": [
        {
          "output_type": "stream",
          "name": "stdout",
          "text": [
            "Epoch 1/6 finished: train_loss = 287.21683526039124, train_accuracy = 72.1602502047807\n",
            "Epoch 2/6 finished: train_loss = 260.79608631134033, train_accuracy = 73.83572864695807\n",
            "Epoch 3/6 finished: train_loss = 255.35175228118896, train_accuracy = 74.21401444634746\n",
            "Epoch 4/6 finished: train_loss = 245.90065678954124, train_accuracy = 74.91697073497654\n",
            "Epoch 5/6 finished: train_loss = 235.4599128961563, train_accuracy = 76.0890609874153\n",
            "Epoch 6/6 finished: train_loss = 223.23479411005974, train_accuracy = 77.31029860749125\n"
          ]
        }
      ]
    },
    {
      "cell_type": "code",
      "source": [
        "test_true = 0\n",
        "test_total = len(test_sampler)\n",
        "test_loss = 0.0\n",
        "with torch.no_grad():\n",
        "\n",
        "        outputs = model(data_)\n",
        "        \n",
        "        loss = criterion(outputs,target_).item()\n",
        "        \n",
        "        _,pred = torch.max(outputs,dim=1)\n",
        "        \n",
        "        test_true += torch.sum(pred==target_).item()\n",
        "        test_loss += loss\n",
        "        \n",
        "\n",
        "print(f\"Validation finished: Accuracy = {round(100 * (test_true / test_total),2)}%, Loss = {test_loss}\")\n"
      ],
      "metadata": {
        "colab": {
          "base_uri": "https://localhost:8080/"
        },
        "id": "sz3g5tGLQhKT",
        "outputId": "36e5be9a-b029-4442-9aaf-7ca1a670edf9"
      },
      "execution_count": null,
      "outputs": [
        {
          "output_type": "stream",
          "name": "stdout",
          "text": [
            "Validation finished: Accuracy = 0.28%, Loss = 0.34214940667152405\n"
          ]
        }
      ]
    },
    {
      "cell_type": "code",
      "source": [
        "!jupyter nbconvert --to html \"\""
      ],
      "metadata": {
        "id": "dXIW4_yiZH49"
      },
      "execution_count": null,
      "outputs": []
    }
  ]
}